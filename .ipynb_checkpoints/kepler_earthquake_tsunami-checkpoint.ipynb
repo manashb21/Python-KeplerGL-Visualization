{
 "cells": [
  {
   "cell_type": "code",
   "execution_count": 44,
   "id": "cd12aa51",
   "metadata": {},
   "outputs": [],
   "source": [
    "#LOOKING AT INTENSITY OF EARTHQUAKES AND SEE IF THEY GENERATE A TSUNAMI\n",
    "\n",
    "import pandas as pd\n",
    "import geopandas as gpd\n",
    "import keplergl"
   ]
  },
  {
   "cell_type": "code",
   "execution_count": 45,
   "id": "b5604625",
   "metadata": {},
   "outputs": [],
   "source": [
    "#read csv\n",
    "df = pd.read_csv('archive\\WorldWide-Earthquake-database.csv')"
   ]
  },
  {
   "cell_type": "markdown",
   "id": "5409f27f",
   "metadata": {},
   "source": [
    "pandas.to_numeric(arg, errors='raise', downcast=None)\n",
    "\n",
    "DataFrame.dropna(axis=0, how='any', thresh=None, subset=None, inplace=False)\n",
    "\n",
    "subset -> array-like, optional\n",
    "\n",
    "    Labels along other axis to consider, e.g. if you are dropping rows these would be a list of columns to include"
   ]
  },
  {
   "cell_type": "code",
   "execution_count": 46,
   "id": "a67b4806",
   "metadata": {},
   "outputs": [],
   "source": [
    "#cleaning data\n",
    "\n",
    "\n",
    "df['LATITUDE'] = pd.to_numeric(df.LATITUDE, errors='coerce')\n",
    "df['LONGITUDE'] = pd.to_numeric(df.LONGITUDE, errors='coerce')\n",
    "\n",
    "#remove missing values df.dropna\n",
    "df.dropna(subset = ['LATITUDE', 'LONGITUDE', 'INTENSITY'], inplace = True)\n",
    "\n",
    "#convert Tsunami flag from string to int\n",
    "df['FLAG_TSUANMI'] = [1 if i==\"Yes\" else 0 for i in df.FLAG_TSUNAMI.values]"
   ]
  },
  {
   "cell_type": "markdown",
   "id": "6805ddb4",
   "metadata": {},
   "source": [
    "kepler vis"
   ]
  },
  {
   "cell_type": "code",
   "execution_count": 55,
   "id": "019f079d",
   "metadata": {},
   "outputs": [
    {
     "name": "stdout",
     "output_type": "stream",
     "text": [
      "User Guide: https://docs.kepler.gl/docs/keplergl-jupyter\n"
     ]
    },
    {
     "data": {
      "application/vnd.jupyter.widget-view+json": {
       "model_id": "83f25b5942e54a2cb71b5a93a4e3976f",
       "version_major": 2,
       "version_minor": 0
      },
      "text/plain": [
       "KeplerGl()"
      ]
     },
     "metadata": {},
     "output_type": "display_data"
    }
   ],
   "source": [
    "kepler_map = keplergl.KeplerGl()\n",
    "kepler_map"
   ]
  },
  {
   "cell_type": "code",
   "execution_count": 56,
   "id": "7879ed88",
   "metadata": {},
   "outputs": [],
   "source": [
    "kepler_map.add_data(data = df, name = \"Earthquakes\")"
   ]
  },
  {
   "cell_type": "markdown",
   "id": "957d6ce0",
   "metadata": {},
   "source": [
    "It is fascinating how some of the Earthquakes that caused Tsunami are so far from the sea. \n",
    "Example in United States."
   ]
  },
  {
   "cell_type": "code",
   "execution_count": null,
   "id": "f14772cb",
   "metadata": {},
   "outputs": [],
   "source": []
  }
 ],
 "metadata": {
  "kernelspec": {
   "display_name": "Python 3 (ipykernel)",
   "language": "python",
   "name": "python3"
  },
  "language_info": {
   "codemirror_mode": {
    "name": "ipython",
    "version": 3
   },
   "file_extension": ".py",
   "mimetype": "text/x-python",
   "name": "python",
   "nbconvert_exporter": "python",
   "pygments_lexer": "ipython3",
   "version": "3.9.7"
  }
 },
 "nbformat": 4,
 "nbformat_minor": 5
}
